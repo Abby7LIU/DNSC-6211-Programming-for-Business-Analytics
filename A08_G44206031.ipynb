{
 "cells": [
  {
   "cell_type": "code",
   "execution_count": 1,
   "metadata": {},
   "outputs": [
    {
     "name": "stdout",
     "output_type": "stream",
     "text": [
      "\t    -20\t    -10\t      0\t     10\t     20\t     30\t     40\t     50\t    -20\t    -10\t      0\t     10\t     20\t     30\t     40\t     50\n",
      "\t================================================================\n",
      "     0|\t  23.31\t  29.53\t  35.74\t  41.96\t  48.17\t  54.39\t  60.60\t  66.81\n",
      "     5|\t -34.00\t -22.26\t -10.51\t   1.24\t  12.98\t  24.73\t  36.47\t  48.22\n",
      "    10|\t -40.72\t -28.33\t -15.93\t  -3.54\t   8.85\t  21.25\t  33.64\t  46.04\n",
      "    15|\t -45.01\t -32.21\t -19.40\t  -6.59\t   6.22\t  19.03\t  31.84\t  44.64\n",
      "    20|\t -48.23\t -35.11\t -22.00\t  -8.88\t   4.24\t  17.36\t  30.48\t  43.60\n",
      "    25|\t -50.83\t -37.46\t -24.09\t -10.72\t   2.65\t  16.02\t  29.39\t  42.76\n",
      "    30|\t -53.03\t -39.45\t -25.86\t -12.28\t   1.30\t  14.88\t  28.46\t  42.04\n",
      "    35|\t -54.93\t -41.17\t -27.40\t -13.64\t   0.13\t  13.89\t  27.66\t  41.43\n",
      "    40|\t -56.62\t -42.70\t -28.77\t -14.84\t  -0.91\t  13.02\t  26.95\t  40.88\n",
      "    45|\t -58.14\t -44.07\t -29.99\t -15.92\t  -1.84\t  12.23\t  26.31\t  40.38\n",
      "    50|\t -59.53\t -45.32\t -31.11\t -16.90\t  -2.69\t  11.52\t  25.73\t  39.93\n"
     ]
    }
   ],
   "source": [
    "for T in range(-20,51,10):                  \n",
    "    print(\"\\t\",\"{:6}\".format(T),end = \"\") \n",
    "    \n",
    "for T in range(-20,51,10):                  \n",
    "    print(\"\\t\",\"{:6}\".format(T),end = \"\") \n",
    "                                          \n",
    "print()                                   # Print a blank line.\n",
    "\n",
    "print(\"\\t\", end = \"\")                      \n",
    "for T in range(-20,51,10):\n",
    "    print(\"========\",end=\"\")           \n",
    "    \n",
    "print()                                   # Print a blank line.\n",
    "\n",
    "for V in range(0,51,5): \n",
    "    print(\"{:6}\".format(V),end = \"|\")     # Print 0 to 50 by 5, and make 6 character spaces.\n",
    "    \n",
    "    for T in range(-20,51,10):\n",
    "        WC= 35.74+0.6215*T-35.75*pow(V,0.16)+0.4275*T*pow(V,0.16)   # Define the function\n",
    "        print(\"\\t\",\"{:6.2f}\".format(WC),end=\"\")  \n",
    "\n",
    "    print()                              # Print outputs in rows."
   ]
  }
 ],
 "metadata": {
  "kernelspec": {
   "display_name": "Python 3",
   "language": "python",
   "name": "python3"
  },
  "language_info": {
   "codemirror_mode": {
    "name": "ipython",
    "version": 3
   },
   "file_extension": ".py",
   "mimetype": "text/x-python",
   "name": "python",
   "nbconvert_exporter": "python",
   "pygments_lexer": "ipython3",
   "version": "3.6.5"
  }
 },
 "nbformat": 4,
 "nbformat_minor": 2
}
