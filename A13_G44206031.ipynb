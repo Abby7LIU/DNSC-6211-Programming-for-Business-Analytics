{
 "cells": [
  {
   "cell_type": "markdown",
   "metadata": {},
   "source": [
    "Replicate today’s workflow using TextBlob       \n",
    "(Bonus, 15%): Scrape the website for ASCI      \n",
    "Please submit one Python notebook file       "
   ]
  },
  {
   "cell_type": "code",
   "execution_count": 1,
   "metadata": {},
   "outputs": [],
   "source": [
    "import tweepy\n",
    "from textblob import TextBlob\n",
    "from bs4 import BeautifulSoup as bs\n",
    "import requests\n",
    "import pandas as pd\n",
    "from matplotlib import pyplot\n",
    "import numpy as np\n",
    "import matplotlib.pyplot as plt"
   ]
  },
  {
   "cell_type": "markdown",
   "metadata": {},
   "source": [
    "## Get Twitter Data"
   ]
  },
  {
   "cell_type": "markdown",
   "metadata": {},
   "source": [
    "The following 'authdata1.csv' is the CSV file that contains of  the consumer key, consumer secret, token and token secret of my twitter Developer's app. I usd it to get the tweets for the airlines, "
   ]
  },
  {
   "cell_type": "markdown",
   "metadata": {},
   "source": [
    "Access the apps to the notebook"
   ]
  },
  {
   "cell_type": "code",
   "execution_count": 2,
   "metadata": {},
   "outputs": [],
   "source": [
    "def getAuthData():\n",
    "    import csv\n",
    "    with open('authdata1.csv', 'r') as f:\n",
    "        reader = csv.reader(f)\n",
    "        your_list = list(reader)\n",
    "\n",
    "    authdata = {}   \n",
    "    for element in your_list:\n",
    "        authdata[element[0]] = element[1]\n",
    "\n",
    "    return authdata"
   ]
  },
  {
   "cell_type": "code",
   "execution_count": 3,
   "metadata": {},
   "outputs": [
    {
     "data": {
      "text/plain": [
       "{'CONSUMER_KEY': 'GPKS57IHaA9RZbPMW31YEHG2N',\n",
       " 'CONSUMER_SECRET': 'IVuDry5U5D2YGQtvGX8zRnqqgNvgj9RoJsSIdebcSVLsJOwPZd',\n",
       " 'OAUTH_TOKEN': '930104792449503232-kLGFge1L5dG7dDjLMs4dfandJ4f7137',\n",
       " 'OAUTH_TOKEN_SECRET': 'y6DHqnALEbeJlRccq4JK9nguI4qYIX04MBH5FN57ejg5G'}"
      ]
     },
     "execution_count": 3,
     "metadata": {},
     "output_type": "execute_result"
    }
   ],
   "source": [
    "getAuthData()"
   ]
  },
  {
   "cell_type": "code",
   "execution_count": 4,
   "metadata": {},
   "outputs": [],
   "source": [
    "authdata = getAuthData()"
   ]
  },
  {
   "cell_type": "markdown",
   "metadata": {},
   "source": [
    "Get the tweets data for airline companies."
   ]
  },
  {
   "cell_type": "code",
   "execution_count": 5,
   "metadata": {},
   "outputs": [],
   "source": [
    "def getTwitterData(searchTerm, authdata):\n",
    "\n",
    "    consumer_key = authdata['CONSUMER_KEY']\n",
    "    consumer_secret = authdata['CONSUMER_SECRET']\n",
    "    access_token = authdata['OAUTH_TOKEN']\n",
    "    access_token_secret = authdata['OAUTH_TOKEN_SECRET']\n",
    "    \n",
    "    auth = tweepy.OAuthHandler(consumer_key, consumer_secret)\n",
    "    auth.set_access_token(access_token, access_token_secret)\n",
    "    api = tweepy.API(auth)\n",
    "    \n",
    "    searchCount = 1800 # The number of tweets you want ... you never get that !\n",
    "     \n",
    "    results = api.search(q=searchTerm, count=searchCount)\n",
    "\n",
    "    print(\"Search completed ...\")\n",
    "    \n",
    "    twts = []\n",
    "    for result in results:\n",
    "        twts.append(result.text)    \n",
    "\n",
    "    print(\"List of tweets assembled ... for \", searchTerm)    \n",
    "        \n",
    "    return (twts)"
   ]
  },
  {
   "cell_type": "markdown",
   "metadata": {},
   "source": [
    "Here, we get a list for each airline companies, each list contains of 100 tweets from the passengers of their flights."
   ]
  },
  {
   "cell_type": "code",
   "execution_count": 6,
   "metadata": {},
   "outputs": [
    {
     "name": "stdout",
     "output_type": "stream",
     "text": [
      "Search completed ...\n",
      "List of tweets assembled ... for  @Delta\n",
      "Search completed ...\n",
      "List of tweets assembled ... for  @United\n",
      "Search completed ...\n",
      "List of tweets assembled ... for  @USAirways\n",
      "Search completed ...\n",
      "List of tweets assembled ... for  @Southwest\n",
      "Search completed ...\n",
      "List of tweets assembled ... for  @American\n",
      "Search completed ...\n",
      "List of tweets assembled ... for  @JetBlue\n"
     ]
    }
   ],
   "source": [
    "Delta = getTwitterData('@Delta', authdata)\n",
    "United = getTwitterData('@United', authdata)\n",
    "USAirways = getTwitterData('@USAirways', authdata)\n",
    "Southwest = getTwitterData('@Southwest', authdata)\n",
    "American = getTwitterData('@American', authdata)\n",
    "JetBlue = getTwitterData('@JetBlue', authdata)"
   ]
  },
  {
   "cell_type": "markdown",
   "metadata": {},
   "source": [
    "## Score Sentiments"
   ]
  },
  {
   "cell_type": "markdown",
   "metadata": {},
   "source": [
    "__I use textBlob to score the airlines, it is worth to mention that:__      \n",
    "1. Every airline has 100 tweets from the comments of their passengers. Since textBolb can only score the polarity of a string, I use the __average score__ for 100 tweets as the final score for the airline company.\n",
    "2. Beacuse the score we need to campared with is from a website which the scores of which range from 0 to 100, however, the score calculated by TextBlob is from -1 to 1, so I transfer the TextBlob score into hundred marked system by: __TextBlob * 50 + 50__"
   ]
  },
  {
   "cell_type": "markdown",
   "metadata": {},
   "source": [
    "The function that calculated the average points all the tweets from the airline and transfer the TextBlob score into hundred marked system,"
   ]
  },
  {
   "cell_type": "code",
   "execution_count": 7,
   "metadata": {},
   "outputs": [],
   "source": [
    "def getScore(airline):\n",
    "    sum = 0 \n",
    "    for tweet in airline:\n",
    "        sum = sum + TextBlob(tweet).sentiment[0]\n",
    "    score = round((sum/len(airline))*50 +50,2)\n",
    "    return score"
   ]
  },
  {
   "cell_type": "markdown",
   "metadata": {},
   "source": [
    "Obtain the twitter score for each airlines."
   ]
  },
  {
   "cell_type": "code",
   "execution_count": 8,
   "metadata": {},
   "outputs": [
    {
     "name": "stdout",
     "output_type": "stream",
     "text": [
      "{'American': 52.49, 'Delta': 55.96, 'JetBlue': 53.23, 'Southwest': 44.74, 'United': 52.77, 'USAirways': 47.45}\n"
     ]
    }
   ],
   "source": [
    "scores = {}\n",
    "\n",
    "scores = {'American': getScore(American),\n",
    "          'Delta': getScore(Delta),\n",
    "          'JetBlue':  getScore(JetBlue),\n",
    "          'Southwest': getScore(Southwest),\n",
    "          'United': getScore(United),\n",
    "          'USAirways': getScore(USAirways)\n",
    "         }\n",
    "\n",
    "print(scores)"
   ]
  },
  {
   "cell_type": "markdown",
   "metadata": {},
   "source": [
    "def getAirlineDataAlt():\n",
    "    airlineDict = {}\n",
    "    airlineDict = {'JetBlue':82, \n",
    "                   'Southwest':80,\n",
    "                   'American':76,\n",
    "                   'Delta':76,\n",
    "                   'United':70\n",
    "                  }\n",
    "    return airlineDict\n",
    "\n",
    "airlineScores = getAirlineDataAlt()"
   ]
  },
  {
   "cell_type": "markdown",
   "metadata": {},
   "source": [
    "## Bonus Part: Get ASCI scores\n",
    "Scrape the website for ASCI and get the data of the 2017 scores for airlines studies before and transform the data into a dataframe."
   ]
  },
  {
   "cell_type": "code",
   "execution_count": 9,
   "metadata": {},
   "outputs": [
    {
     "name": "stderr",
     "output_type": "stream",
     "text": [
      "/Users/liujingyi/anaconda3/lib/python3.6/site-packages/bs4/__init__.py:181: UserWarning: No parser was explicitly specified, so I'm using the best available HTML parser for this system (\"lxml\"). This usually isn't a problem, but if you run this code on another system, or in a different virtual environment, it may use a different parser and behave differently.\n",
      "\n",
      "The code that caused this warning is on line 193 of the file /Users/liujingyi/anaconda3/lib/python3.6/runpy.py. To get rid of this warning, change code that looks like this:\n",
      "\n",
      " BeautifulSoup(YOUR_MARKUP})\n",
      "\n",
      "to this:\n",
      "\n",
      " BeautifulSoup(YOUR_MARKUP, \"lxml\")\n",
      "\n",
      "  markup_type=markup_type))\n"
     ]
    }
   ],
   "source": [
    "url = 'https://www.theacsi.org/index.php?option=com_content&view=article&id=149&catid=&Itemid=214&i=Airlines'\n",
    "r = requests.get(url)\n",
    "airlinesSatPage = r.text       \n",
    "soup = bs(airlinesSatPage)\n",
    "allRows = soup.find('body').findAll('tr',{'class':'Company'})\n",
    "\n",
    "tableData = []\n",
    "for row in allRows:\n",
    "    eachRow = []\n",
    "    cells = row.findAll('td',{'class':['Company','Baseline','Y1995','Y1996','Y1997','Y1998','Y1999','Y2000','Y2001','Y2002','Y2003','Y2004','Y2005','Y2006','Y2007','Y2008','Y2009','Y2010','Y2011','Y2012','Y2013','Y2014','Y2015','Y2016','Y2017','Y2018'] })\n",
    "    for cell in cells:\n",
    "        eachRow.append(str(cell.text.strip()))\n",
    "    tableData.append(eachRow)    \n",
    "    airline = [ x[0] for x in tableData ]\n",
    "    Baseline   = [ x[1] for x in tableData ]\n",
    "    Y2017   = [ x[24] for x in tableData ]\n",
    "    airlineDict = { 'airlines': airline,\n",
    "                 'airlineScore':Y2017\n",
    "                   \n",
    "                  }\n",
    "acsi = pd.DataFrame(airlineDict)\n",
    "\n",
    "acsi= pd.concat([acsi.iloc[2:4],acsi.iloc[0:1],acsi.iloc[5:8] ])\n",
    "acsi = acsi.drop([6])\n",
    "acsi = acsi.set_index('airlines')"
   ]
  },
  {
   "cell_type": "markdown",
   "metadata": {},
   "source": [
    "## Score Airlines"
   ]
  },
  {
   "cell_type": "markdown",
   "metadata": {},
   "source": [
    "The scores scraped from the website :"
   ]
  },
  {
   "cell_type": "code",
   "execution_count": 10,
   "metadata": {},
   "outputs": [
    {
     "data": {
      "text/html": [
       "<div>\n",
       "<style scoped>\n",
       "    .dataframe tbody tr th:only-of-type {\n",
       "        vertical-align: middle;\n",
       "    }\n",
       "\n",
       "    .dataframe tbody tr th {\n",
       "        vertical-align: top;\n",
       "    }\n",
       "\n",
       "    .dataframe thead th {\n",
       "        text-align: right;\n",
       "    }\n",
       "</style>\n",
       "<table border=\"1\" class=\"dataframe\">\n",
       "  <thead>\n",
       "    <tr style=\"text-align: right;\">\n",
       "      <th></th>\n",
       "      <th>airlineScore</th>\n",
       "    </tr>\n",
       "    <tr>\n",
       "      <th>airlines</th>\n",
       "      <th></th>\n",
       "    </tr>\n",
       "  </thead>\n",
       "  <tbody>\n",
       "    <tr>\n",
       "      <th>JetBlue</th>\n",
       "      <td>82</td>\n",
       "    </tr>\n",
       "    <tr>\n",
       "      <th>American</th>\n",
       "      <td>76</td>\n",
       "    </tr>\n",
       "    <tr>\n",
       "      <th>Southwest</th>\n",
       "      <td>80</td>\n",
       "    </tr>\n",
       "    <tr>\n",
       "      <th>Delta</th>\n",
       "      <td>76</td>\n",
       "    </tr>\n",
       "    <tr>\n",
       "      <th>United</th>\n",
       "      <td>70</td>\n",
       "    </tr>\n",
       "  </tbody>\n",
       "</table>\n",
       "</div>"
      ],
      "text/plain": [
       "          airlineScore\n",
       "airlines              \n",
       "JetBlue             82\n",
       "American            76\n",
       "Southwest           80\n",
       "Delta               76\n",
       "United              70"
      ]
     },
     "execution_count": 10,
     "metadata": {},
     "output_type": "execute_result"
    }
   ],
   "source": [
    "acsi"
   ]
  },
  {
   "cell_type": "markdown",
   "metadata": {},
   "source": [
    "The scores calculated by TextBlob from twitter"
   ]
  },
  {
   "cell_type": "code",
   "execution_count": 11,
   "metadata": {},
   "outputs": [
    {
     "data": {
      "text/html": [
       "<div>\n",
       "<style scoped>\n",
       "    .dataframe tbody tr th:only-of-type {\n",
       "        vertical-align: middle;\n",
       "    }\n",
       "\n",
       "    .dataframe tbody tr th {\n",
       "        vertical-align: top;\n",
       "    }\n",
       "\n",
       "    .dataframe thead th {\n",
       "        text-align: right;\n",
       "    }\n",
       "</style>\n",
       "<table border=\"1\" class=\"dataframe\">\n",
       "  <thead>\n",
       "    <tr style=\"text-align: right;\">\n",
       "      <th></th>\n",
       "      <th>twitterScore</th>\n",
       "    </tr>\n",
       "  </thead>\n",
       "  <tbody>\n",
       "    <tr>\n",
       "      <th>American</th>\n",
       "      <td>52.49</td>\n",
       "    </tr>\n",
       "    <tr>\n",
       "      <th>Delta</th>\n",
       "      <td>55.96</td>\n",
       "    </tr>\n",
       "    <tr>\n",
       "      <th>JetBlue</th>\n",
       "      <td>53.23</td>\n",
       "    </tr>\n",
       "    <tr>\n",
       "      <th>Southwest</th>\n",
       "      <td>44.74</td>\n",
       "    </tr>\n",
       "    <tr>\n",
       "      <th>United</th>\n",
       "      <td>52.77</td>\n",
       "    </tr>\n",
       "    <tr>\n",
       "      <th>USAirways</th>\n",
       "      <td>47.45</td>\n",
       "    </tr>\n",
       "  </tbody>\n",
       "</table>\n",
       "</div>"
      ],
      "text/plain": [
       "           twitterScore\n",
       "American          52.49\n",
       "Delta             55.96\n",
       "JetBlue           53.23\n",
       "Southwest         44.74\n",
       "United            52.77\n",
       "USAirways         47.45"
      ]
     },
     "execution_count": 11,
     "metadata": {},
     "output_type": "execute_result"
    }
   ],
   "source": [
    "twdf = pd.DataFrame.from_dict(scores, orient='index')\n",
    "twdf.columns = ['twitterScore']\n",
    "twdf"
   ]
  },
  {
   "cell_type": "markdown",
   "metadata": {},
   "source": [
    "## Plot Histograms\n",
    "Join the two scores into a single dataframe:"
   ]
  },
  {
   "cell_type": "code",
   "execution_count": 12,
   "metadata": {},
   "outputs": [],
   "source": [
    "result = pd.concat([twdf, acsi], axis=1, join='inner')\n",
    "result['airlineScore'] = result['airlineScore'].astype(int)"
   ]
  },
  {
   "cell_type": "code",
   "execution_count": 13,
   "metadata": {},
   "outputs": [
    {
     "data": {
      "text/html": [
       "<div>\n",
       "<style scoped>\n",
       "    .dataframe tbody tr th:only-of-type {\n",
       "        vertical-align: middle;\n",
       "    }\n",
       "\n",
       "    .dataframe tbody tr th {\n",
       "        vertical-align: top;\n",
       "    }\n",
       "\n",
       "    .dataframe thead th {\n",
       "        text-align: right;\n",
       "    }\n",
       "</style>\n",
       "<table border=\"1\" class=\"dataframe\">\n",
       "  <thead>\n",
       "    <tr style=\"text-align: right;\">\n",
       "      <th></th>\n",
       "      <th>twitterScore</th>\n",
       "      <th>airlineScore</th>\n",
       "    </tr>\n",
       "  </thead>\n",
       "  <tbody>\n",
       "    <tr>\n",
       "      <th>American</th>\n",
       "      <td>52.49</td>\n",
       "      <td>76</td>\n",
       "    </tr>\n",
       "    <tr>\n",
       "      <th>Delta</th>\n",
       "      <td>55.96</td>\n",
       "      <td>76</td>\n",
       "    </tr>\n",
       "    <tr>\n",
       "      <th>JetBlue</th>\n",
       "      <td>53.23</td>\n",
       "      <td>82</td>\n",
       "    </tr>\n",
       "    <tr>\n",
       "      <th>Southwest</th>\n",
       "      <td>44.74</td>\n",
       "      <td>80</td>\n",
       "    </tr>\n",
       "    <tr>\n",
       "      <th>United</th>\n",
       "      <td>52.77</td>\n",
       "      <td>70</td>\n",
       "    </tr>\n",
       "  </tbody>\n",
       "</table>\n",
       "</div>"
      ],
      "text/plain": [
       "           twitterScore  airlineScore\n",
       "American          52.49            76\n",
       "Delta             55.96            76\n",
       "JetBlue           53.23            82\n",
       "Southwest         44.74            80\n",
       "United            52.77            70"
      ]
     },
     "execution_count": 13,
     "metadata": {},
     "output_type": "execute_result"
    }
   ],
   "source": [
    "result"
   ]
  },
  {
   "cell_type": "code",
   "execution_count": 14,
   "metadata": {},
   "outputs": [
    {
     "data": {
      "image/png": "[encoded data removed]",
      "text/plain": [
       "<Figure size 720x720 with 1 Axes>"
      ]
     },
     "metadata": {},
     "output_type": "display_data"
    }
   ],
   "source": [
    "plt.figure(figsize=(10,10))\n",
    "\n",
    "# Make a fake dataset:\n",
    "height1 = result['airlineScore'].tolist()\n",
    "bars1 = result.index.tolist()\n",
    "y_pos1 = np.arange(len(bars1))\n",
    "\n",
    "height2 = result['twitterScore'].tolist()\n",
    "bars2 = result.index.tolist()\n",
    "y_pos2 = np.arange(len(bars2))+0.3\n",
    "\n",
    "# Create bars\n",
    "plt.bar(y_pos1, height1 ,color = 'orange', width = 0.3, alpha = 0.7)\n",
    "plt.bar(y_pos2, height2 ,color = 'cornflowerblue', width = 0.3, alpha = 0.7 )\n",
    " \n",
    "# Create names on the x-axis\n",
    "plt.xticks(y_pos2, bars2)\n",
    "\n",
    "\n",
    "# Show graphic\n",
    "plt.show()"
   ]
  },
  {
   "cell_type": "markdown",
   "metadata": {},
   "source": [
    "##  Plot to Compare\n",
    "__Draw the scatter plot to analysis the relationship between twitter scores and aieline scores.__      \n",
    "There is no clear relastionship indicated by the scatter plot below."
   ]
  },
  {
   "cell_type": "code",
   "execution_count": 15,
   "metadata": {},
   "outputs": [
    {
     "data": {
      "text/plain": [
       "<matplotlib.collections.PathCollection at 0x1a14ed3898>"
      ]
     },
     "execution_count": 15,
     "metadata": {},
     "output_type": "execute_result"
    },
    {
     "data": {
      "image/png": "[encoded data removed]",
      "text/plain": [
       "<Figure size 432x288 with 1 Axes>"
      ]
     },
     "metadata": {},
     "output_type": "display_data"
    }
   ],
   "source": [
    "%matplotlib inline\n",
    "import matplotlib.pyplot as plt\n",
    "plt.scatter(result['twitterScore'], result['airlineScore'])"
   ]
  }
 ],
 "metadata": {
  "kernelspec": {
   "display_name": "Python 3",
   "language": "python",
   "name": "python3"
  },
  "language_info": {
   "codemirror_mode": {
    "name": "ipython",
    "version": 3
   },
   "file_extension": ".py",
   "mimetype": "text/x-python",
   "name": "python",
   "nbconvert_exporter": "python",
   "pygments_lexer": "ipython3",
   "version": "3.6.5"
  }
 },
 "nbformat": 4,
 "nbformat_minor": 2
}
